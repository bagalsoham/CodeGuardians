{
  "cells": [
    {
      "cell_type": "code",
      "execution_count": 1,
      "metadata": {
        "id": "fjjT02o-8ViQ"
      },
      "outputs": [],
      "source": [
        "from langchain_ollama import ChatOllama, OllamaEmbeddings\n",
        "\n",
        "llm = ChatOllama(model=\"llama3.1\", temperature=0)\n",
        "ollama_nomic_embeddings = OllamaEmbeddings(model=\"nomic-embed-text\")"
      ]
    },
    {
      "cell_type": "code",
      "execution_count": null,
      "metadata": {
        "id": "coVeqDkF8w7z"
      },
      "outputs": [
        {
          "ename": "SyntaxError",
          "evalue": "invalid syntax. Perhaps you forgot a comma? (217856585.py, line 4)",
          "output_type": "error",
          "traceback": [
            "\u001b[1;36m  Cell \u001b[1;32mIn[3], line 4\u001b[1;36m\u001b[0m\n\u001b[1;33m    loader = PyPDFLoader(file_path=\"\"C:\\Users\\manoj singh\\Desktop\\RESUME (1).pdf\"\")\u001b[0m\n\u001b[1;37m                                   ^\u001b[0m\n\u001b[1;31mSyntaxError\u001b[0m\u001b[1;31m:\u001b[0m invalid syntax. Perhaps you forgot a comma?\n"
          ]
        }
      ],
      "source": [
        "from langchain_community.document_loaders.pdf import PyPDFLoader\n",
        "# Initializing the PyPDFLoader with the file path of the PDF document you want to load\n",
        "# In this case, the file \"FaustinaLazarusCV.pdf\" is provided as the path to the PDF document\n",
        "loader = PyPDFLoader(file_path=\"C:\\Users\\manoj singh\\Desktop\\RESUME (1).pdf\")\n",
        "data = loader.load()"
      ]
    },
    {
      "cell_type": "code",
      "execution_count": null,
      "metadata": {
        "id": "1FNijdqZ9RNJ"
      },
      "outputs": [],
      "source": [
        "# Importing the RecursiveCharacterTextSplitter from langchain_text_splitters for splitting long text into smaller chunks\n",
        "from langchain_text_splitters import RecursiveCharacterTextSplitter\n",
        "\n",
        "# 'chunk_size' defines the maximum length of each chunk (in this case, 1024 characters)\n",
        "# 'chunk_overlap' defines how much overlap should be there between adjacent chunks (in this case, 200 characters)\n",
        "text_splitter = RecursiveCharacterTextSplitter(chunk_size=1024, chunk_overlap=200)\n",
        "\n",
        "# Splitting the document data (extracted PDF content) into smaller chunks using the 'split_documents' method\n",
        "splits = text_splitter.split_documents(data)"
      ]
    },
    {
      "cell_type": "code",
      "execution_count": null,
      "metadata": {
        "id": "NGk0Af5s9VPn"
      },
      "outputs": [],
      "source": [
        "from langchain_chroma import Chroma\n",
        "\n",
        "# Defining a batch size limit for processing the splits\n",
        "batch_size_limit = 4096  # Maximum number of characters allowed per batch\n",
        "\n",
        "# Initializing variables to track batch processing\n",
        "current_batch_size = 0  # Tracks the size of the current batch\n",
        "batch_splits = []  # Holds the current batch of document splits\n",
        "all_splits = []  # Holds all the document splits processed so far\n",
        "\n",
        "# Setting the collection name and persist directory for the vector store\n",
        "collection_name = \"faustina_lazarus_cv\"  # Name for the vector store collection\n",
        "persist_directory = f\"./{collection_name}\"  # Directory where the vector store data will be persisted\n",
        "\n",
        "# Initializing the Chroma vector store, which will store the document vectors and support retrieval\n",
        "# The vector store uses Ollama embeddings (from the 'ollama_nomic_embeddings' object) to create document embeddings\n",
        "vectorstore = Chroma(collection_name=collection_name, persist_directory=persist_directory, embedding_function=ollama_nomic_embeddings)\n",
        "\n",
        "# Looping through each split from the previous step (text chunks from the PDF)\n",
        "for split in splits:\n",
        "    split_size = len(split.page_content)  # Get the size of the current document chunk\n",
        "    # Check if adding the current chunk exceeds the batch size limit\n",
        "    if current_batch_size + split_size > batch_size_limit:\n",
        "        # If so, add the current batch of splits to the vector store\n",
        "        vectorstore.add_documents(documents=batch_splits)\n",
        "        all_splits.extend(batch_splits)  # Add the current batch to the all_splits list\n",
        "        batch_splits = [split]  # Start a new batch with the current split\n",
        "        current_batch_size = split_size  # Reset the batch size to the current split size\n",
        "    else:\n",
        "        # If the batch size doesn't exceed the limit, add the split to the current batch\n",
        "        batch_splits.append(split)\n",
        "        current_batch_size += split_size  # Increase the batch size by the size of the current split\n",
        "\n",
        "# After processing all splits, if there are any remaining splits in the batch, add them to the vector store\n",
        "if batch_splits:\n",
        "    vectorstore.add_documents(documents=batch_splits)\n",
        "    all_splits.extend(batch_splits)\n",
        "\n",
        "# Reinitialize the Chroma vector store and set it up as a retriever to handle search queries or document retrieval\n",
        "vectorstore = Chroma(collection_name=collection_name, persist_directory=persist_directory, embedding_function=ollama_nomic_embeddings)\n",
        "retriever = vectorstore.as_retriever()  # Convert the vector store into a retriever for querying\n"
      ]
    },
    {
      "cell_type": "code",
      "execution_count": null,
      "metadata": {
        "id": "-KaDGO_QASjb"
      },
      "outputs": [],
      "source": [
        "# Defining a system prompt template for generating responses based on a given context\n",
        "system_prompt = (\n",
        "    \"\"\"\n",
        "    Answer the questions based on the provided context only.\n",
        "    Please provide the most accurate response based on the question\n",
        "    <context>\n",
        "    {context}\n",
        "    <context>\n",
        "    Questions:{input}\n",
        "    \"\"\"\n",
        ")"
      ]
    },
    {
      "cell_type": "code",
      "execution_count": null,
      "metadata": {
        "id": "jcKer9pACtnW"
      },
      "outputs": [],
      "source": [
        "from langchain.chains import create_history_aware_retriever\n",
        "from langchain_core.prompts import MessagesPlaceholder\n",
        "from langchain_core.prompts import ChatPromptTemplate\n",
        "\n",
        "# Defining the system prompt that instructs the model to reformulate a user question based on chat history\n",
        "contextualize_q_system_prompt = (\n",
        "    \"Given a chat history and the latest user question \"\n",
        "    \"which might reference context in the chat history, \"\n",
        "    \"formulate a standalone question which can be understood \"\n",
        "    \"without the chat history. Do NOT answer the question, \"\n",
        "    \"just reformulate it if needed and otherwise return it as is.\"\n",
        ")\n",
        "\n",
        "# - The system message uses the 'contextualize_q_system_prompt' to guide the model in reformulating the question\n",
        "# - The 'chat_history' placeholder will dynamically insert the previous conversation history\n",
        "# - The 'human' message inserts the user's latest input (question) as a dynamic field\n",
        "contextualize_q_prompt = ChatPromptTemplate.from_messages(\n",
        "    [\n",
        "        (\"system\", contextualize_q_system_prompt),\n",
        "        MessagesPlaceholder(\"chat_history\"),\n",
        "        (\"human\", \"{input}\"),\n",
        "    ]\n",
        ")\n",
        "# This setup helps retrieve documents or responses while considering the context from prior interactions in the chat\n",
        "history_aware_retriever = create_history_aware_retriever(\n",
        "    llm, retriever, contextualize_q_prompt\n",
        ")"
      ]
    },
    {
      "cell_type": "code",
      "execution_count": null,
      "metadata": {
        "id": "1Z_3f78YCwLD"
      },
      "outputs": [],
      "source": [
        "from langchain.chains import create_retrieval_chain\n",
        "from langchain.chains.combine_documents import create_stuff_documents_chain\n",
        "from langchain_core.prompts import ChatPromptTemplate\n",
        "\n",
        "# Defining the question-answering prompt template for the model\n",
        "qa_prompt = ChatPromptTemplate.from_messages(\n",
        "    [\n",
        "        (\"system\", system_prompt),  # The system message that provides instructions on how to answer the question\n",
        "        MessagesPlaceholder(\"chat_history\"),  # A placeholder for the chat history to provide context to the model\n",
        "        (\"human\", \"{input}\"),  # A placeholder for the user's question (input)\n",
        "    ]\n",
        ")\n",
        "\n",
        "# Creating a \"stuff\" document chain, which combines document retrieval and processing using the 'qa_prompt' template\n",
        "# The 'stuff' document chain will guide the model in answering questions based on relevant documents and context\n",
        "question_answer_chain = create_stuff_documents_chain(llm, qa_prompt)\n",
        "\n",
        "# Creating a retrieval chain that uses the history-aware retriever and the question-answer chain\n",
        "# This chain allows the system to retrieve contextually relevant documents and then generate an answer using the 'question_answer_chain'\n",
        "rag_chain = create_retrieval_chain(history_aware_retriever, question_answer_chain)"
      ]
    },
    {
      "cell_type": "code",
      "execution_count": null,
      "metadata": {
        "id": "yxwo8ZelCydp"
      },
      "outputs": [],
      "source": [
        "from langchain_core.messages import AIMessage, HumanMessage\n",
        "\n",
        "chat_history = []\n",
        "\n",
        "while True:\n",
        "    question = input(\"Enter your question...\")\n",
        "\n",
        "    if question in [\"quit\", \"exit\"]:\n",
        "        break\n",
        "\n",
        "    ai_msg = rag_chain.invoke({\"input\": question, \"chat_history\": chat_history})\n",
        "    print(f\"Question: {question}\")\n",
        "    print(f\"Answer: {ai_msg['answer']}\")\n",
        "    print(\"**********************************************************************\")\n",
        "\n",
        "    chat_history.extend([\n",
        "        HumanMessage(content=question),\n",
        "        AIMessage(content=ai_msg[\"answer\"])\n",
        "    ])"
      ]
    }
  ],
  "metadata": {
    "colab": {
      "provenance": []
    },
    "kernelspec": {
      "display_name": "vrenv",
      "language": "python",
      "name": "python3"
    },
    "language_info": {
      "codemirror_mode": {
        "name": "ipython",
        "version": 3
      },
      "file_extension": ".py",
      "mimetype": "text/x-python",
      "name": "python",
      "nbconvert_exporter": "python",
      "pygments_lexer": "ipython3",
      "version": "3.12.6"
    }
  },
  "nbformat": 4,
  "nbformat_minor": 0
}
